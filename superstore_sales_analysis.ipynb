{
  "nbformat": 4,
  "nbformat_minor": 0,
  "metadata": {
    "colab": {
      "provenance": []
    },
    "kernelspec": {
      "name": "python3",
      "display_name": "Python 3"
    },
    "language_info": {
      "name": "python"
    }
  },
  "cells": [
    {
      "cell_type": "code",
      "execution_count": 3,
      "metadata": {
        "id": "jgfraI09DM1J"
      },
      "outputs": [],
      "source": [
        "import pandas as pd\n",
        "import numpy as np\n",
        "import matplotlib.pyplot as plt\n",
        "import seaborn as sns\n",
        "\n",
        "data = pd.read_csv('Sample - Superstore.csv',encoding='latin-1')"
      ]
    },
    {
      "cell_type": "code",
      "source": [
        "print(\"Dataset loaded successfully!\")\n",
        "print(f\"Shape: {data.shape}\")\n",
        "print(\"Columns:\", data.columns.tolist()[:10])  # Show first 10 columns"
      ],
      "metadata": {
        "colab": {
          "base_uri": "https://localhost:8080/"
        },
        "id": "smeL7n0hOxJ1",
        "outputId": "19fad200-a7e3-4658-a3ef-51bf5fd41ed0"
      },
      "execution_count": 4,
      "outputs": [
        {
          "output_type": "stream",
          "name": "stdout",
          "text": [
            "Dataset loaded successfully!\n",
            "Shape: (9994, 21)\n",
            "Columns: ['Row ID', 'Order ID', 'Order Date', 'Ship Date', 'Ship Mode', 'Customer ID', 'Customer Name', 'Segment', 'Country', 'City']\n"
          ]
        }
      ]
    },
    {
      "cell_type": "code",
      "source": [
        "# Basic EDA\n",
        "print(f\"\\n DATASET OVERVIEW\")\n",
        "print(f\"Shape: {data.shape}\")\n",
        "print(f\"Columns: {len(data.columns)}\")\n",
        "print(\"\\nColumn Names:\")\n",
        "print(data.columns.tolist())\n",
        "print(\"\\nData Types:\")\n",
        "print(data.dtypes)\n",
        "print(\"\\nMissing Values:\")\n",
        "print(data.isnull().sum())"
      ],
      "metadata": {
        "colab": {
          "base_uri": "https://localhost:8080/"
        },
        "id": "IKoxartGShV7",
        "outputId": "a7189c43-65ec-4254-b9df-8d045c373167"
      },
      "execution_count": 5,
      "outputs": [
        {
          "output_type": "stream",
          "name": "stdout",
          "text": [
            "\n",
            " DATASET OVERVIEW\n",
            "Shape: (9994, 21)\n",
            "Columns: 21\n",
            "\n",
            "Column Names:\n",
            "['Row ID', 'Order ID', 'Order Date', 'Ship Date', 'Ship Mode', 'Customer ID', 'Customer Name', 'Segment', 'Country', 'City', 'State', 'Postal Code', 'Region', 'Product ID', 'Category', 'Sub-Category', 'Product Name', 'Sales', 'Quantity', 'Discount', 'Profit']\n",
            "\n",
            "Data Types:\n",
            "Row ID             int64\n",
            "Order ID          object\n",
            "Order Date        object\n",
            "Ship Date         object\n",
            "Ship Mode         object\n",
            "Customer ID       object\n",
            "Customer Name     object\n",
            "Segment           object\n",
            "Country           object\n",
            "City              object\n",
            "State             object\n",
            "Postal Code        int64\n",
            "Region            object\n",
            "Product ID        object\n",
            "Category          object\n",
            "Sub-Category      object\n",
            "Product Name      object\n",
            "Sales            float64\n",
            "Quantity           int64\n",
            "Discount         float64\n",
            "Profit           float64\n",
            "dtype: object\n",
            "\n",
            "Missing Values:\n",
            "Row ID           0\n",
            "Order ID         0\n",
            "Order Date       0\n",
            "Ship Date        0\n",
            "Ship Mode        0\n",
            "Customer ID      0\n",
            "Customer Name    0\n",
            "Segment          0\n",
            "Country          0\n",
            "City             0\n",
            "State            0\n",
            "Postal Code      0\n",
            "Region           0\n",
            "Product ID       0\n",
            "Category         0\n",
            "Sub-Category     0\n",
            "Product Name     0\n",
            "Sales            0\n",
            "Quantity         0\n",
            "Discount         0\n",
            "Profit           0\n",
            "dtype: int64\n"
          ]
        }
      ]
    },
    {
      "cell_type": "code",
      "source": [
        "# Comprehensive EDA\n",
        "print(\"Sales & Profit Analysis\")\n",
        "print(f\"Sales Range: ${data['Sales'].min():,.2f} - ${data['Sales'].max():,.2f}\")\n",
        "print(f\"Profit Range: ${data['Profit'].min():,.2f} - ${data['Profit'].max():,.2f}\")\n",
        "\n",
        "# Check for data corruption in numeric columns\n",
        "print(\"\\nData Quality Check\")\n",
        "for col in ['Sales', 'Profit', 'Quantity', 'Discount']:\n",
        "    non_numeric = data[~pd.to_numeric(data[col], errors='coerce').notnull()]\n",
        "    if len(non_numeric) > 0:\n",
        "        print(f\"Found {len(non_numeric)} corrupted rows in {col}:\")\n",
        "        print(non_numeric[[col, 'Product Name', 'Row ID']].head())\n",
        "    else:\n",
        "        print(f\"{col} column is clean\")\n",
        "\n",
        "# Regional Performance\n",
        "print(\"\\nRegional Performance\")\n",
        "regional_stats = data.groupby('Region').agg({\n",
        "    'Sales': ['sum', 'mean'],\n",
        "    'Profit': ['sum', 'mean'],\n",
        "    'Quantity': 'sum'\n",
        "}).round(2)\n",
        "print(regional_stats)\n",
        "\n",
        "# Category Performance\n",
        "print(\"\\nCategory Performance\")\n",
        "category_stats = data.groupby('Category').agg({\n",
        "    'Sales': 'sum',\n",
        "    'Profit': 'sum',\n",
        "    'Quantity': 'sum'\n",
        "}).round(2)\n",
        "category_stats['Profit_Margin_Pct'] = (category_stats['Profit'] / category_stats['Sales'] * 100).round(2)\n",
        "print(category_stats)"
      ],
      "metadata": {
        "colab": {
          "base_uri": "https://localhost:8080/"
        },
        "id": "LhwxS8UaSjRH",
        "outputId": "7d762c3e-833a-402e-af74-c575ad245315"
      },
      "execution_count": 6,
      "outputs": [
        {
          "output_type": "stream",
          "name": "stdout",
          "text": [
            "Sales & Profit Analysis\n",
            "Sales Range: $0.44 - $22,638.48\n",
            "Profit Range: $-6,599.98 - $8,399.98\n",
            "\n",
            "Data Quality Check\n",
            "Sales column is clean\n",
            "Profit column is clean\n",
            "Quantity column is clean\n",
            "Discount column is clean\n",
            "\n",
            "Regional Performance\n",
            "             Sales             Profit        Quantity\n",
            "               sum    mean        sum   mean      sum\n",
            "Region                                               \n",
            "Central  501239.89  215.77   39706.36  17.09     8780\n",
            "East     678781.24  238.34   91522.78  32.14    10618\n",
            "South    391721.90  241.80   46749.43  28.86     6209\n",
            "West     725457.82  226.49  108418.45  33.85    12266\n",
            "\n",
            "Category Performance\n",
            "                     Sales     Profit  Quantity  Profit_Margin_Pct\n",
            "Category                                                          \n",
            "Furniture        741999.80   18451.27      8028               2.49\n",
            "Office Supplies  719047.03  122490.80     22906              17.04\n",
            "Technology       836154.03  145454.95      6939              17.40\n"
          ]
        }
      ]
    },
    {
      "cell_type": "code",
      "source": [
        "# Time series analysis\n",
        "data['Order Date'] = pd.to_datetime(data['Order Date'])\n",
        "data['Year_Month'] = data['Order Date'].dt.to_period('M')\n",
        "\n",
        "print(\"Time Series Trends\")\n",
        "monthly_trends = data.groupby('Year_Month').agg({\n",
        "    'Sales': 'sum',\n",
        "    'Profit': 'sum',\n",
        "    'Order ID': 'nunique'\n",
        "}).tail(12)\n",
        "print(monthly_trends)\n",
        "\n",
        "# Top/bottom performers\n",
        "print(\"\\nTop 10 Profitable Products\")\n",
        "top_products = data.groupby('Product Name')['Profit'].sum().nlargest(10)\n",
        "print(top_products)\n",
        "\n",
        "print(\"\\nBottom 10 Loss-Making Products\")\n",
        "loss_products = data.groupby('Product Name')['Profit'].sum().nsmallest(10)\n",
        "print(loss_products)\n",
        "\n",
        "# Customer segments\n",
        "print(\"\\nCustomer Segment Analysis\")\n",
        "segment_stats = data.groupby('Segment').agg({\n",
        "    'Sales': 'sum',\n",
        "    'Profit': 'sum',\n",
        "    'Customer ID': 'nunique',\n",
        "    'Order ID': 'nunique'\n",
        "}).round(2)\n",
        "segment_stats['Avg_Order_Value'] = (segment_stats['Sales'] / segment_stats['Order ID']).round(2)\n",
        "print(segment_stats)\n",
        "\n",
        "# Shipping mode analysis\n",
        "print(\"\\nShipping Mode Analysis\")\n",
        "ship_stats = data.groupby('Ship Mode').agg({\n",
        "    'Sales': 'sum',\n",
        "    'Profit': 'sum',\n",
        "    'Order ID': 'nunique'\n",
        "}).round(2)\n",
        "print(ship_stats)"
      ],
      "metadata": {
        "colab": {
          "base_uri": "https://localhost:8080/"
        },
        "id": "z57Pe4MxSpZs",
        "outputId": "7d93f13a-db66-491b-feee-814f26c6fdbf"
      },
      "execution_count": 7,
      "outputs": [
        {
          "output_type": "stream",
          "name": "stdout",
          "text": [
            "Time Series Trends\n",
            "                  Sales      Profit  Order ID\n",
            "Year_Month                                   \n",
            "2017-01      43971.3740   7140.4391        69\n",
            "2017-02      20301.1334   1613.8720        53\n",
            "2017-03      58872.3528  14751.8915       118\n",
            "2017-04      36521.5361    933.2900       116\n",
            "2017-05      44261.1102   6342.5828       118\n",
            "2017-06      52981.7257   8223.3357       133\n",
            "2017-07      45264.4160   6952.6212       111\n",
            "2017-08      63120.8880   9040.9557       111\n",
            "2017-09      87866.6520  10991.5556       226\n",
            "2017-10      77776.9232   9275.2755       147\n",
            "2017-11     118447.8250   9690.1037       261\n",
            "2017-12      83829.3188   8483.3468       224\n",
            "\n",
            "Top 10 Profitable Products\n",
            "Product Name\n",
            "Canon imageCLASS 2200 Advanced Copier                                          25199.9280\n",
            "Fellowes PB500 Electric Punch Plastic Comb Binding Machine with Manual Bind     7753.0390\n",
            "Hewlett Packard LaserJet 3310 Copier                                            6983.8836\n",
            "Canon PC1060 Personal Laser Copier                                              4570.9347\n",
            "HP Designjet T520 Inkjet Large Format Printer - 24\" Color                       4094.9766\n",
            "Ativa V4110MDD Micro-Cut Shredder                                               3772.9461\n",
            "3D Systems Cube Printer, 2nd Generation, Magenta                                3717.9714\n",
            "Plantronics Savi W720 Multi-Device Wireless Headset System                      3696.2820\n",
            "Ibico EPK-21 Electric Binding System                                            3345.2823\n",
            "Zebra ZM400 Thermal Label Printer                                               3343.5360\n",
            "Name: Profit, dtype: float64\n",
            "\n",
            "Bottom 10 Loss-Making Products\n",
            "Product Name\n",
            "Cubify CubeX 3D Printer Double Head Print                           -8879.9704\n",
            "Lexmark MX611dhe Monochrome Laser Printer                           -4589.9730\n",
            "Cubify CubeX 3D Printer Triple Head Print                           -3839.9904\n",
            "Chromcraft Bull-Nose Wood Oval Conference Tables & Bases            -2876.1156\n",
            "Bush Advantage Collection Racetrack Conference Table                -1934.3976\n",
            "GBC DocuBind P400 Electric Binding System                           -1878.1662\n",
            "Cisco TelePresence System EX90 Videoconferencing Unit               -1811.0784\n",
            "Martin Yale Chadless Opener Electric Letter Opener                  -1299.1836\n",
            "Balt Solid Wood Round Tables                                        -1201.0581\n",
            "BoxOffice By Design Rectangular and Half-Moon Meeting Room Tables   -1148.4375\n",
            "Name: Profit, dtype: float64\n",
            "\n",
            "Customer Segment Analysis\n",
            "                  Sales     Profit  Customer ID  Order ID  Avg_Order_Value\n",
            "Segment                                                                   \n",
            "Consumer     1161401.34  134119.21          409      2586           449.11\n",
            "Corporate     706146.37   91979.13          236      1514           466.41\n",
            "Home Office   429653.15   60298.68          148       909           472.67\n",
            "\n",
            "Shipping Mode Analysis\n",
            "                     Sales     Profit  Order ID\n",
            "Ship Mode                                      \n",
            "First Class      351428.42   48969.84       787\n",
            "Same Day         128363.12   15891.76       264\n",
            "Second Class     459193.57   57446.64       964\n",
            "Standard Class  1358215.74  164088.79      2994\n"
          ]
        }
      ]
    },
    {
      "cell_type": "code",
      "source": [
        "from google.colab import files\n",
        "# Copy data and ensure numeric columns\n",
        "clean_data = data.copy()\n",
        "numeric_cols = ['Sales', 'Profit', 'Quantity', 'Discount']\n",
        "initial_rows = len(clean_data)\n",
        "\n",
        "for col in numeric_cols:\n",
        "    clean_data[col] = pd.to_numeric(clean_data[col], errors='coerce')\n",
        "\n",
        "clean_data.dropna(subset=numeric_cols, inplace=True)\n",
        "print(f\"Removed {initial_rows - len(clean_data)} corrupted rows\")\n",
        "\n",
        "# Convert dates once\n",
        "order_dt = pd.to_datetime(clean_data['Order Date'])\n",
        "ship_dt = pd.to_datetime(clean_data['Ship Date'])\n",
        "\n",
        "# Calculated features\n",
        "clean_data['order_year'] = order_dt.dt.year\n",
        "clean_data['order_month'] = order_dt.dt.month\n",
        "clean_data['order_quarter'] = order_dt.dt.quarter\n",
        "clean_data['days_to_ship'] = (ship_dt - order_dt).dt.days\n",
        "clean_data['profit_margin'] = (clean_data['Profit'] / clean_data['Sales']) * 100\n",
        "clean_data['revenue_per_unit'] = clean_data['Sales'] / clean_data['Quantity']\n",
        "clean_data['profit_per_unit'] = clean_data['Profit'] / clean_data['Quantity']\n",
        "\n",
        "# Handle infinite/NaN\n",
        "clean_data.replace([np.inf, -np.inf], 0, inplace=True)\n",
        "clean_data.fillna(0, inplace=True)\n",
        "\n",
        "# Profit categories\n",
        "clean_data['profit_category'] = pd.cut(\n",
        "    clean_data['Profit'],\n",
        "    bins=[-np.inf, 0, 50, 200, np.inf],\n",
        "    labels=['Loss', 'Low_Profit', 'Medium_Profit', 'High_Profit']\n",
        ")\n",
        "\n",
        "# MySQL-compatible dates\n",
        "clean_data['order_date'] = order_dt.dt.strftime('%Y-%m-%d')\n",
        "clean_data['ship_date'] = ship_dt.dt.strftime('%Y-%m-%d')\n",
        "\n",
        "# Final clean dataframe\n",
        "final_cols = {\n",
        "    'Row ID':'row_id', 'Order ID':'order_id', 'Ship Mode':'ship_mode', 'Customer ID':'customer_id',\n",
        "    'Customer Name':'customer_name', 'Segment':'segment', 'Country':'country', 'City':'city',\n",
        "    'State':'state', 'Postal Code':'postal_code', 'Region':'region', 'Product ID':'product_id',\n",
        "    'Category':'category', 'Sub-Category':'sub_category', 'Product Name':'product_name',\n",
        "    'Sales':'sales', 'Quantity':'quantity', 'Discount':'discount', 'Profit':'profit'\n",
        "}\n",
        "\n",
        "final_data = clean_data[list(final_cols.keys())].rename(columns=final_cols)\n",
        "final_data['postal_code'] = pd.to_numeric(final_data['postal_code'], errors='coerce').fillna(0).astype(int)\n",
        "final_data['sales'] = clean_data['Sales'].round(4)\n",
        "final_data['quantity'] = clean_data['Quantity'].astype(int)\n",
        "final_data['discount'] = clean_data['Discount'].round(4)\n",
        "final_data['profit'] = clean_data['Profit'].round(4)\n",
        "\n",
        "# Add calculated features\n",
        "for col in ['order_year','order_month','order_quarter','days_to_ship',\n",
        "            'profit_margin','revenue_per_unit','profit_per_unit','profit_category','order_date','ship_date']:\n",
        "    final_data[col] = clean_data[col]\n",
        "\n",
        "# Clean text fields\n",
        "text_fields = [\n",
        "    'order_id','ship_mode','customer_id','customer_name','segment','country','city','state',\n",
        "    'region','product_id','category','sub_category','product_name','profit_category'\n",
        "]\n",
        "final_data[text_fields] = final_data[text_fields].replace({'\"':'', \"'\":'', ',':''}, regex=True)\n",
        "\n",
        "# Export CSV\n",
        "final_data.to_csv('SUPERSTORE_FINAL.csv', index=False, quoting=0)\n",
        "files.download('SUPERSTORE_FINAL.csv')"
      ],
      "metadata": {
        "id": "Yt1Jdy5ETTP4",
        "outputId": "81482e92-7f27-424d-b286-1b0d757ab190",
        "colab": {
          "base_uri": "https://localhost:8080/",
          "height": 34
        }
      },
      "execution_count": 9,
      "outputs": [
        {
          "output_type": "stream",
          "name": "stdout",
          "text": [
            "Removed 0 corrupted rows\n"
          ]
        },
        {
          "output_type": "display_data",
          "data": {
            "text/plain": [
              "<IPython.core.display.Javascript object>"
            ],
            "application/javascript": [
              "\n",
              "    async function download(id, filename, size) {\n",
              "      if (!google.colab.kernel.accessAllowed) {\n",
              "        return;\n",
              "      }\n",
              "      const div = document.createElement('div');\n",
              "      const label = document.createElement('label');\n",
              "      label.textContent = `Downloading \"${filename}\": `;\n",
              "      div.appendChild(label);\n",
              "      const progress = document.createElement('progress');\n",
              "      progress.max = size;\n",
              "      div.appendChild(progress);\n",
              "      document.body.appendChild(div);\n",
              "\n",
              "      const buffers = [];\n",
              "      let downloaded = 0;\n",
              "\n",
              "      const channel = await google.colab.kernel.comms.open(id);\n",
              "      // Send a message to notify the kernel that we're ready.\n",
              "      channel.send({})\n",
              "\n",
              "      for await (const message of channel.messages) {\n",
              "        // Send a message to notify the kernel that we're ready.\n",
              "        channel.send({})\n",
              "        if (message.buffers) {\n",
              "          for (const buffer of message.buffers) {\n",
              "            buffers.push(buffer);\n",
              "            downloaded += buffer.byteLength;\n",
              "            progress.value = downloaded;\n",
              "          }\n",
              "        }\n",
              "      }\n",
              "      const blob = new Blob(buffers, {type: 'application/binary'});\n",
              "      const a = document.createElement('a');\n",
              "      a.href = window.URL.createObjectURL(blob);\n",
              "      a.download = filename;\n",
              "      div.appendChild(a);\n",
              "      a.click();\n",
              "      div.remove();\n",
              "    }\n",
              "  "
            ]
          },
          "metadata": {}
        },
        {
          "output_type": "display_data",
          "data": {
            "text/plain": [
              "<IPython.core.display.Javascript object>"
            ],
            "application/javascript": [
              "download(\"download_7faf923e-1d86-4609-a55d-3d16779641ab\", \"SUPERSTORE_FINAL.csv\", 2779255)"
            ]
          },
          "metadata": {}
        }
      ]
    }
  ]
}